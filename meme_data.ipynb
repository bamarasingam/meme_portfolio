{
 "cells": [
  {
   "cell_type": "code",
   "execution_count": null,
   "metadata": {},
   "outputs": [],
   "source": [
    "import pandas as pd\n",
    "import requests"
   ]
  },
  {
   "cell_type": "code",
   "execution_count": null,
   "metadata": {},
   "outputs": [],
   "source": [
    "# Define the list of meme cryptocurrencies (all above 1 billion MC)\n",
    "cryptocurrencies = ['DOGE', 'SHIB', 'PEPE', 'WIF', 'BONK', 'FLOKI']"
   ]
  },
  {
   "cell_type": "code",
   "execution_count": null,
   "metadata": {},
   "outputs": [],
   "source": [
    "#Function to fetch price history for given cryptocurrencies\n",
    "def fetch_price_history(crypto):\n",
    "    api_url = f'https://api.example.com/v1/cryptocurrency/{crypto}/historical'\n",
    "    response = requests.get(api_url)\n",
    "    data = response.json()\n",
    "    return pd.DataFrame(data['prices'], columns=['date', 'price'])\n",
    "\n",
    "crypto_data = {}"
   ]
  },
  {
   "cell_type": "code",
   "execution_count": null,
   "metadata": {},
   "outputs": [],
   "source": []
  },
  {
   "cell_type": "code",
   "execution_count": null,
   "metadata": {},
   "outputs": [],
   "source": []
  }
 ],
 "metadata": {
  "language_info": {
   "name": "python"
  }
 },
 "nbformat": 4,
 "nbformat_minor": 2
}
