{
 "cells": [
  {
   "cell_type": "code",
   "execution_count": 1,
   "metadata": {},
   "outputs": [
    {
     "name": "stderr",
     "output_type": "stream",
     "text": [
      "/Users/brandonamarasingam/anaconda3/lib/python3.11/site-packages/pandas/core/arrays/masked.py:60: UserWarning: Pandas requires version '1.3.6' or newer of 'bottleneck' (version '1.3.5' currently installed).\n",
      "  from pandas.core import (\n"
     ]
    }
   ],
   "source": [
    "import yfinance as yf\n",
    "import pandas as pd"
   ]
  },
  {
   "cell_type": "code",
   "execution_count": 2,
   "metadata": {},
   "outputs": [],
   "source": [
    "# Define the ticker symbols for the cryptocurrencies\n",
    "tickers = {\n",
    "    'BTC': 'BTC-USD',\n",
    "    'ETH': 'ETH-USD',\n",
    "    'XRP': 'XRP-USD',\n",
    "    'DOGE': 'DOGE-USD',\n",
    "    'LINK': 'LINK-USD'\n",
    "}"
   ]
  },
  {
   "cell_type": "code",
   "execution_count": 5,
   "metadata": {},
   "outputs": [
    {
     "name": "stdout",
     "output_type": "stream",
     "text": [
      "Fetching data for BTC...\n",
      "[*********************100%%**********************]  1 of 1 completed"
     ]
    },
    {
     "name": "stderr",
     "output_type": "stream",
     "text": [
      "/Users/brandonamarasingam/anaconda3/lib/python3.11/site-packages/yfinance/utils.py:788: FutureWarning: The 'unit' keyword in TimedeltaIndex construction is deprecated and will be removed in a future version. Use pd.to_timedelta instead.\n",
      "  df.index += _pd.TimedeltaIndex(dst_error_hours, 'h')\n"
     ]
    },
    {
     "name": "stdout",
     "output_type": "stream",
     "text": [
      "\n",
      "Fetching data for ETH...\n",
      "[*********************100%%**********************]  1 of 1 completed"
     ]
    },
    {
     "name": "stderr",
     "output_type": "stream",
     "text": [
      "/Users/brandonamarasingam/anaconda3/lib/python3.11/site-packages/yfinance/utils.py:788: FutureWarning: The 'unit' keyword in TimedeltaIndex construction is deprecated and will be removed in a future version. Use pd.to_timedelta instead.\n",
      "  df.index += _pd.TimedeltaIndex(dst_error_hours, 'h')\n"
     ]
    },
    {
     "name": "stdout",
     "output_type": "stream",
     "text": [
      "\n",
      "Fetching data for XRP...\n",
      "[*********************100%%**********************]  1 of 1 completed"
     ]
    },
    {
     "name": "stderr",
     "output_type": "stream",
     "text": [
      "/Users/brandonamarasingam/anaconda3/lib/python3.11/site-packages/yfinance/utils.py:788: FutureWarning: The 'unit' keyword in TimedeltaIndex construction is deprecated and will be removed in a future version. Use pd.to_timedelta instead.\n",
      "  df.index += _pd.TimedeltaIndex(dst_error_hours, 'h')\n"
     ]
    },
    {
     "name": "stdout",
     "output_type": "stream",
     "text": [
      "\n",
      "Fetching data for DOGE...\n",
      "[*********************100%%**********************]  1 of 1 completed"
     ]
    },
    {
     "name": "stderr",
     "output_type": "stream",
     "text": [
      "/Users/brandonamarasingam/anaconda3/lib/python3.11/site-packages/yfinance/utils.py:788: FutureWarning: The 'unit' keyword in TimedeltaIndex construction is deprecated and will be removed in a future version. Use pd.to_timedelta instead.\n",
      "  df.index += _pd.TimedeltaIndex(dst_error_hours, 'h')\n"
     ]
    },
    {
     "name": "stdout",
     "output_type": "stream",
     "text": [
      "\n",
      "Fetching data for LINK...\n",
      "[*********************100%%**********************]  1 of 1 completed\n",
      "                     BTC          ETH       XRP      DOGE       LINK\n",
      "Date                                                                \n",
      "2020-05-11   8601.795898   185.912842  0.194064  0.002413   3.585065\n",
      "2020-05-12   8804.477539   189.312500  0.197637  0.002463   3.692374\n",
      "2020-05-13   9269.987305   199.193283  0.201480  0.002521   3.760424\n",
      "2020-05-14   9733.721680   202.949097  0.203129  0.002574   3.799387\n",
      "2020-05-15   9328.197266   195.622665  0.198911  0.002506   3.674653\n",
      "...                  ...          ...       ...       ...        ...\n",
      "2024-05-16  65231.582031  2945.131104  0.515698  0.149637  15.509692\n",
      "2024-05-17  67051.875000  3094.118652  0.523804  0.155563  16.252932\n",
      "2024-05-18  66940.804688  3122.948975  0.521390  0.153077  16.311008\n",
      "2024-05-19  66278.367188  3071.843018  0.509661  0.149107  16.581558\n",
      "2024-05-20  71448.195312  3663.855469  0.537333  0.165688  17.277952\n",
      "\n",
      "[1471 rows x 5 columns]\n"
     ]
    },
    {
     "name": "stderr",
     "output_type": "stream",
     "text": [
      "/Users/brandonamarasingam/anaconda3/lib/python3.11/site-packages/yfinance/utils.py:788: FutureWarning: The 'unit' keyword in TimedeltaIndex construction is deprecated and will be removed in a future version. Use pd.to_timedelta instead.\n",
      "  df.index += _pd.TimedeltaIndex(dst_error_hours, 'h')\n"
     ]
    }
   ],
   "source": [
    "# Define the start date\n",
    "start_date = '2020-05-11'\n",
    "end_date = pd.Timestamp.today().strftime('%Y-%m-%d')\n",
    "\n",
    "# Create a dictionary to store the data\n",
    "data = {}\n",
    "\n",
    "# Fetch the data for each ticker\n",
    "for name, ticker in tickers.items():\n",
    "    print(f\"Fetching data for {name}...\")\n",
    "    df = yf.download(ticker, start=start_date, end=end_date)\n",
    "    data[name] = df['Adj Close']\n",
    "\n",
    "# Combine the data into a single DataFrame\n",
    "combined_data = pd.DataFrame(data)\n",
    "\n",
    "# Display the combined data\n",
    "print(combined_data)\n",
    "\n",
    "# Save the data to a CSV file\n",
    "combined_data.to_csv('yf_df.csv')"
   ]
  },
  {
   "cell_type": "code",
   "execution_count": 6,
   "metadata": {},
   "outputs": [
    {
     "data": {
      "text/html": [
       "<div>\n",
       "<style scoped>\n",
       "    .dataframe tbody tr th:only-of-type {\n",
       "        vertical-align: middle;\n",
       "    }\n",
       "\n",
       "    .dataframe tbody tr th {\n",
       "        vertical-align: top;\n",
       "    }\n",
       "\n",
       "    .dataframe thead th {\n",
       "        text-align: right;\n",
       "    }\n",
       "</style>\n",
       "<table border=\"1\" class=\"dataframe\">\n",
       "  <thead>\n",
       "    <tr style=\"text-align: right;\">\n",
       "      <th></th>\n",
       "      <th>BTC</th>\n",
       "      <th>ETH</th>\n",
       "      <th>XRP</th>\n",
       "      <th>DOGE</th>\n",
       "      <th>LINK</th>\n",
       "    </tr>\n",
       "    <tr>\n",
       "      <th>Date</th>\n",
       "      <th></th>\n",
       "      <th></th>\n",
       "      <th></th>\n",
       "      <th></th>\n",
       "      <th></th>\n",
       "    </tr>\n",
       "  </thead>\n",
       "  <tbody>\n",
       "    <tr>\n",
       "      <th>2020-05-11</th>\n",
       "      <td>8601.795898</td>\n",
       "      <td>185.912842</td>\n",
       "      <td>0.194064</td>\n",
       "      <td>0.002413</td>\n",
       "      <td>3.585065</td>\n",
       "    </tr>\n",
       "    <tr>\n",
       "      <th>2020-05-12</th>\n",
       "      <td>8804.477539</td>\n",
       "      <td>189.312500</td>\n",
       "      <td>0.197637</td>\n",
       "      <td>0.002463</td>\n",
       "      <td>3.692374</td>\n",
       "    </tr>\n",
       "    <tr>\n",
       "      <th>2020-05-13</th>\n",
       "      <td>9269.987305</td>\n",
       "      <td>199.193283</td>\n",
       "      <td>0.201480</td>\n",
       "      <td>0.002521</td>\n",
       "      <td>3.760424</td>\n",
       "    </tr>\n",
       "    <tr>\n",
       "      <th>2020-05-14</th>\n",
       "      <td>9733.721680</td>\n",
       "      <td>202.949097</td>\n",
       "      <td>0.203129</td>\n",
       "      <td>0.002574</td>\n",
       "      <td>3.799387</td>\n",
       "    </tr>\n",
       "    <tr>\n",
       "      <th>2020-05-15</th>\n",
       "      <td>9328.197266</td>\n",
       "      <td>195.622665</td>\n",
       "      <td>0.198911</td>\n",
       "      <td>0.002506</td>\n",
       "      <td>3.674653</td>\n",
       "    </tr>\n",
       "    <tr>\n",
       "      <th>...</th>\n",
       "      <td>...</td>\n",
       "      <td>...</td>\n",
       "      <td>...</td>\n",
       "      <td>...</td>\n",
       "      <td>...</td>\n",
       "    </tr>\n",
       "    <tr>\n",
       "      <th>2024-05-16</th>\n",
       "      <td>65231.582031</td>\n",
       "      <td>2945.131104</td>\n",
       "      <td>0.515698</td>\n",
       "      <td>0.149637</td>\n",
       "      <td>15.509692</td>\n",
       "    </tr>\n",
       "    <tr>\n",
       "      <th>2024-05-17</th>\n",
       "      <td>67051.875000</td>\n",
       "      <td>3094.118652</td>\n",
       "      <td>0.523804</td>\n",
       "      <td>0.155563</td>\n",
       "      <td>16.252932</td>\n",
       "    </tr>\n",
       "    <tr>\n",
       "      <th>2024-05-18</th>\n",
       "      <td>66940.804688</td>\n",
       "      <td>3122.948975</td>\n",
       "      <td>0.521390</td>\n",
       "      <td>0.153077</td>\n",
       "      <td>16.311008</td>\n",
       "    </tr>\n",
       "    <tr>\n",
       "      <th>2024-05-19</th>\n",
       "      <td>66278.367188</td>\n",
       "      <td>3071.843018</td>\n",
       "      <td>0.509661</td>\n",
       "      <td>0.149107</td>\n",
       "      <td>16.581558</td>\n",
       "    </tr>\n",
       "    <tr>\n",
       "      <th>2024-05-20</th>\n",
       "      <td>71448.195312</td>\n",
       "      <td>3663.855469</td>\n",
       "      <td>0.537333</td>\n",
       "      <td>0.165688</td>\n",
       "      <td>17.277952</td>\n",
       "    </tr>\n",
       "  </tbody>\n",
       "</table>\n",
       "<p>1471 rows × 5 columns</p>\n",
       "</div>"
      ],
      "text/plain": [
       "                     BTC          ETH       XRP      DOGE       LINK\n",
       "Date                                                                \n",
       "2020-05-11   8601.795898   185.912842  0.194064  0.002413   3.585065\n",
       "2020-05-12   8804.477539   189.312500  0.197637  0.002463   3.692374\n",
       "2020-05-13   9269.987305   199.193283  0.201480  0.002521   3.760424\n",
       "2020-05-14   9733.721680   202.949097  0.203129  0.002574   3.799387\n",
       "2020-05-15   9328.197266   195.622665  0.198911  0.002506   3.674653\n",
       "...                  ...          ...       ...       ...        ...\n",
       "2024-05-16  65231.582031  2945.131104  0.515698  0.149637  15.509692\n",
       "2024-05-17  67051.875000  3094.118652  0.523804  0.155563  16.252932\n",
       "2024-05-18  66940.804688  3122.948975  0.521390  0.153077  16.311008\n",
       "2024-05-19  66278.367188  3071.843018  0.509661  0.149107  16.581558\n",
       "2024-05-20  71448.195312  3663.855469  0.537333  0.165688  17.277952\n",
       "\n",
       "[1471 rows x 5 columns]"
      ]
     },
     "execution_count": 6,
     "metadata": {},
     "output_type": "execute_result"
    }
   ],
   "source": [
    "combined_data"
   ]
  }
 ],
 "metadata": {
  "kernelspec": {
   "display_name": "Python 3 (ipykernel)",
   "language": "python",
   "name": "python3"
  },
  "language_info": {
   "codemirror_mode": {
    "name": "ipython",
    "version": 3
   },
   "file_extension": ".py",
   "mimetype": "text/x-python",
   "name": "python",
   "nbconvert_exporter": "python",
   "pygments_lexer": "ipython3",
   "version": "3.11.4"
  }
 },
 "nbformat": 4,
 "nbformat_minor": 2
}
